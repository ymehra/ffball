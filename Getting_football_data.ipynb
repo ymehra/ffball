{
 "cells": [
  {
   "cell_type": "code",
   "execution_count": 4,
   "metadata": {},
   "outputs": [
    {
     "data": {
      "text/html": [
       "        <script type=\"text/javascript\">\n",
       "        window.PlotlyConfig = {MathJaxConfig: 'local'};\n",
       "        if (window.MathJax) {MathJax.Hub.Config({SVG: {font: \"STIX-Web\"}});}\n",
       "        if (typeof require !== 'undefined') {\n",
       "        require.undef(\"plotly\");\n",
       "        requirejs.config({\n",
       "            paths: {\n",
       "                'plotly': ['https://cdn.plot.ly/plotly-latest.min']\n",
       "            }\n",
       "        });\n",
       "        require(['plotly'], function(Plotly) {\n",
       "            window._Plotly = Plotly;\n",
       "        });\n",
       "        }\n",
       "        </script>\n",
       "        "
      ]
     },
     "metadata": {},
     "output_type": "display_data"
    }
   ],
   "source": [
    "import requests\n",
    "import pandas as pd\n",
    "import numpy as np\n",
    "import matplotlib.pyplot as plt\n",
    "import seaborn as sns\n",
    "import plotly.graph_objs as go\n",
    "from plotly.offline import plot, init_notebook_mode, iplot\n",
    "import cufflinks as cf\n",
    "cf.go_offline()\n",
    "sns.set(color_codes=True)"
   ]
  },
  {
   "cell_type": "code",
   "execution_count": 6,
   "metadata": {},
   "outputs": [],
   "source": [
    "league_id = 119974\n",
    "prev_year = 2019\n",
    "\n",
    "prev_url = \"https://fantasy.espn.com/apis/v3/games/ffl/leagueHistory/\" + \\\n",
    "      str(league_id) + \"?seasonId=\" + str(prev_year)\n",
    "\n",
    "current_url = 'https://fantasy.espn.com/apis/v3/games/ffl/seasons/2019/segments/0/leagues/' + str(league_id)\n",
    "\n",
    "teams = requests.get(current_url).json()\n",
    "matches = requests.get(current_url, params={\"view\": \"mMatchup\"}).json()"
   ]
  },
  {
   "cell_type": "code",
   "execution_count": 7,
   "metadata": {},
   "outputs": [
    {
     "data": {
      "text/html": [
       "<div>\n",
       "<style scoped>\n",
       "    .dataframe tbody tr th:only-of-type {\n",
       "        vertical-align: middle;\n",
       "    }\n",
       "\n",
       "    .dataframe tbody tr th {\n",
       "        vertical-align: top;\n",
       "    }\n",
       "\n",
       "    .dataframe thead th {\n",
       "        text-align: right;\n",
       "    }\n",
       "</style>\n",
       "<table border=\"1\" class=\"dataframe\">\n",
       "  <thead>\n",
       "    <tr style=\"text-align: right;\">\n",
       "      <th></th>\n",
       "      <th>Week</th>\n",
       "      <th>Team1</th>\n",
       "      <th>Score1</th>\n",
       "      <th>Team2</th>\n",
       "      <th>Score2</th>\n",
       "      <th>Type</th>\n",
       "    </tr>\n",
       "  </thead>\n",
       "  <tbody>\n",
       "    <tr>\n",
       "      <th>0</th>\n",
       "      <td>1</td>\n",
       "      <td>3</td>\n",
       "      <td>84.06</td>\n",
       "      <td>9</td>\n",
       "      <td>86.92</td>\n",
       "      <td>Regular</td>\n",
       "    </tr>\n",
       "    <tr>\n",
       "      <th>1</th>\n",
       "      <td>1</td>\n",
       "      <td>11</td>\n",
       "      <td>130.32</td>\n",
       "      <td>1</td>\n",
       "      <td>128.06</td>\n",
       "      <td>Regular</td>\n",
       "    </tr>\n",
       "    <tr>\n",
       "      <th>2</th>\n",
       "      <td>1</td>\n",
       "      <td>8</td>\n",
       "      <td>85.34</td>\n",
       "      <td>7</td>\n",
       "      <td>110.92</td>\n",
       "      <td>Regular</td>\n",
       "    </tr>\n",
       "    <tr>\n",
       "      <th>3</th>\n",
       "      <td>1</td>\n",
       "      <td>2</td>\n",
       "      <td>84.16</td>\n",
       "      <td>12</td>\n",
       "      <td>116.12</td>\n",
       "      <td>Regular</td>\n",
       "    </tr>\n",
       "    <tr>\n",
       "      <th>4</th>\n",
       "      <td>1</td>\n",
       "      <td>6</td>\n",
       "      <td>105.92</td>\n",
       "      <td>5</td>\n",
       "      <td>150.40</td>\n",
       "      <td>Regular</td>\n",
       "    </tr>\n",
       "  </tbody>\n",
       "</table>\n",
       "</div>"
      ],
      "text/plain": [
       "   Week  Team1  Score1  Team2  Score2     Type\n",
       "0     1      3   84.06      9   86.92  Regular\n",
       "1     1     11  130.32      1  128.06  Regular\n",
       "2     1      8   85.34      7  110.92  Regular\n",
       "3     1      2   84.16     12  116.12  Regular\n",
       "4     1      6  105.92      5  150.40  Regular"
      ]
     },
     "execution_count": 7,
     "metadata": {},
     "output_type": "execute_result"
    }
   ],
   "source": [
    "df = [[\n",
    "        game['matchupPeriodId'],\n",
    "        game['home']['teamId'], game['home']['totalPoints'],\n",
    "        game['away']['teamId'], game['away']['totalPoints']\n",
    "    ] for game in matches['schedule']]\n",
    "df = pd.DataFrame(df, columns=['Week', 'Team1', 'Score1', 'Team2', 'Score2'])\n",
    "df['Type'] = ['Regular' if w<=14 else 'Playoff' for w in df['Week']]\n",
    "df.head()"
   ]
  },
  {
   "cell_type": "code",
   "execution_count": 8,
   "metadata": {},
   "outputs": [],
   "source": [
    "id_to_names = {}\n",
    "for i in teams['teams']:\n",
    "    id_to_names[i['id']] = i['location'] + ' ' + i['nickname']"
   ]
  },
  {
   "cell_type": "code",
   "execution_count": 9,
   "metadata": {},
   "outputs": [
    {
     "data": {
      "text/html": [
       "<div>\n",
       "<style scoped>\n",
       "    .dataframe tbody tr th:only-of-type {\n",
       "        vertical-align: middle;\n",
       "    }\n",
       "\n",
       "    .dataframe tbody tr th {\n",
       "        vertical-align: top;\n",
       "    }\n",
       "\n",
       "    .dataframe thead th {\n",
       "        text-align: right;\n",
       "    }\n",
       "</style>\n",
       "<table border=\"1\" class=\"dataframe\">\n",
       "  <thead>\n",
       "    <tr style=\"text-align: right;\">\n",
       "      <th></th>\n",
       "      <th>Week</th>\n",
       "      <th>Team</th>\n",
       "      <th>Margin</th>\n",
       "      <th>Type</th>\n",
       "    </tr>\n",
       "  </thead>\n",
       "  <tbody>\n",
       "    <tr>\n",
       "      <th>0</th>\n",
       "      <td>1</td>\n",
       "      <td>3</td>\n",
       "      <td>-2.86</td>\n",
       "      <td>Regular</td>\n",
       "    </tr>\n",
       "    <tr>\n",
       "      <th>1</th>\n",
       "      <td>1</td>\n",
       "      <td>11</td>\n",
       "      <td>2.26</td>\n",
       "      <td>Regular</td>\n",
       "    </tr>\n",
       "    <tr>\n",
       "      <th>2</th>\n",
       "      <td>1</td>\n",
       "      <td>8</td>\n",
       "      <td>-25.58</td>\n",
       "      <td>Regular</td>\n",
       "    </tr>\n",
       "    <tr>\n",
       "      <th>3</th>\n",
       "      <td>1</td>\n",
       "      <td>2</td>\n",
       "      <td>-31.96</td>\n",
       "      <td>Regular</td>\n",
       "    </tr>\n",
       "    <tr>\n",
       "      <th>4</th>\n",
       "      <td>1</td>\n",
       "      <td>6</td>\n",
       "      <td>-44.48</td>\n",
       "      <td>Regular</td>\n",
       "    </tr>\n",
       "  </tbody>\n",
       "</table>\n",
       "</div>"
      ],
      "text/plain": [
       "   Week  Team  Margin     Type\n",
       "0     1     3   -2.86  Regular\n",
       "1     1    11    2.26  Regular\n",
       "2     1     8  -25.58  Regular\n",
       "3     1     2  -31.96  Regular\n",
       "4     1     6  -44.48  Regular"
      ]
     },
     "execution_count": 9,
     "metadata": {},
     "output_type": "execute_result"
    }
   ],
   "source": [
    "df3 = df.assign(Margin1 = df['Score1'] - df['Score2'],\n",
    "                Margin2 = df['Score2'] - df['Score1'])\n",
    "df3 = (df3[['Week', 'Team1', 'Margin1', 'Type']]\n",
    " .rename(columns={'Team1': 'Team', 'Margin1': 'Margin'})\n",
    " .append(df3[['Week', 'Team2', 'Margin2', 'Type']]\n",
    " .rename(columns={'Team2': 'Team', 'Margin2': 'Margin'}))\n",
    ")\n",
    "df3.head()"
   ]
  },
  {
   "cell_type": "code",
   "execution_count": 10,
   "metadata": {},
   "outputs": [],
   "source": [
    "margins = df3.replace({'Team':id_to_names})\n",
    "margins = margins[margins.Margin != 0]"
   ]
  },
  {
   "cell_type": "code",
   "execution_count": 11,
   "metadata": {},
   "outputs": [
    {
     "data": {
      "application/vnd.plotly.v1+json": {
       "config": {
        "linkText": "Export to plot.ly",
        "plotlyServerURL": "https://plot.ly",
        "showLink": false
       },
       "data": [
        {
         "boxpoints": "all",
         "jitter": 0.5,
         "line": {
          "width": 1
         },
         "marker": {
          "size": 2
         },
         "name": "Kittle My Johnson",
         "type": "box",
         "uid": "fe3fd283-9625-476f-9d61-1927f8fd2356",
         "whiskerwidth": 0.2,
         "y": [
          -2.8599999999999994,
          -53.41999999999999,
          60.61999999999999,
          34.80000000000001,
          19.340000000000003,
          62.28
         ]
        },
        {
         "boxpoints": "all",
         "jitter": 0.5,
         "line": {
          "width": 1
         },
         "marker": {
          "size": 2
         },
         "name": "North Bay Nip Diddlers",
         "type": "box",
         "uid": "56d493fe-dbdb-44eb-b0bd-e4eec93615c9",
         "whiskerwidth": 0.2,
         "y": [
          2.259999999999991,
          32.480000000000004,
          43.92,
          -62.28,
          -63.74,
          -6.599999999999994
         ]
        },
        {
         "boxpoints": "all",
         "jitter": 0.5,
         "line": {
          "width": 1
         },
         "marker": {
          "size": 2
         },
         "name": "Sad Adams",
         "type": "box",
         "uid": "f33b2963-ac33-40f3-b827-9455ec8235ce",
         "whiskerwidth": 0.2,
         "y": [
          -25.58,
          -1.8400000000000034,
          -59.44,
          -44.019999999999996,
          28.120000000000005,
          -43.92
         ]
        },
        {
         "boxpoints": "all",
         "jitter": 0.5,
         "line": {
          "width": 1
         },
         "marker": {
          "size": 2
         },
         "name": "The horses in the back",
         "type": "box",
         "uid": "d02794e7-e1ab-418f-a16d-cd7badcf6a65",
         "whiskerwidth": 0.2,
         "y": [
          -31.960000000000008,
          -5.1000000000000085,
          -28.120000000000005,
          1.2399999999999949,
          -1.2999999999999972,
          -60.61999999999999
         ]
        },
        {
         "boxpoints": "all",
         "jitter": 0.5,
         "line": {
          "width": 1
         },
         "marker": {
          "size": 2
         },
         "name": "The  Lizard King",
         "type": "box",
         "uid": "17d9cf9b-2754-4cab-9fa7-a91e8cd162bb",
         "whiskerwidth": 0.2,
         "y": [
          -44.480000000000004,
          6.599999999999994,
          -34.06,
          17.480000000000004,
          5.1000000000000085,
          -14.280000000000001
         ]
        },
        {
         "boxpoints": "all",
         "jitter": 0.5,
         "line": {
          "width": 1
         },
         "marker": {
          "size": 2
         },
         "name": "Kamara Hopkins Nothin Else",
         "type": "box",
         "uid": "2deb6424-583b-42e0-bd79-928d7618946f",
         "whiskerwidth": 0.2,
         "y": [
          -1.5400000000000063,
          -17.480000000000004,
          -19.340000000000003,
          5.219999999999999,
          1.8400000000000034,
          6.940000000000012
         ]
        },
        {
         "boxpoints": "all",
         "jitter": 0.5,
         "line": {
          "width": 1
         },
         "marker": {
          "size": 2
         },
         "name": "Two Ds Four QBs",
         "type": "box",
         "uid": "a882a644-4aa0-4052-b90d-986dfc607c45",
         "whiskerwidth": 0.2,
         "y": [
          -7.719999999999999,
          6.179999999999993,
          -23.120000000000005,
          2.8599999999999994,
          -61.72000000000001,
          -30.299999999999997
         ]
        },
        {
         "boxpoints": "all",
         "jitter": 0.5,
         "line": {
          "width": 1
         },
         "marker": {
          "size": 2
         },
         "name": "Tyreek Hill's Daycare",
         "type": "box",
         "uid": "3218cc4e-c7cd-4868-b500-2a3a871d5895",
         "whiskerwidth": 0.2,
         "y": [
          -34.80000000000001,
          61.72000000000001,
          -6.940000000000012,
          25.58,
          29.78,
          -1.2399999999999949
         ]
        },
        {
         "boxpoints": "all",
         "jitter": 0.5,
         "line": {
          "width": 1
         },
         "marker": {
          "size": 2
         },
         "name": "Bill Cosby's Sleeper",
         "type": "box",
         "uid": "c269eeaf-d0ea-4d8c-9915-4a518619bf0e",
         "whiskerwidth": 0.2,
         "y": [
          63.74,
          13,
          31.960000000000008,
          -2.3400000000000034,
          -6.179999999999993,
          34.06
         ]
        },
        {
         "boxpoints": "all",
         "jitter": 0.5,
         "line": {
          "width": 1
         },
         "marker": {
          "size": 2
         },
         "name": "Razor Gang",
         "type": "box",
         "uid": "55409438-1fd2-4f76-9420-b602cd73ba94",
         "whiskerwidth": 0.2,
         "y": [
          44.019999999999996,
          -29.78,
          30.299999999999997,
          44.480000000000004,
          53.41999999999999,
          -5.219999999999999
         ]
        },
        {
         "boxpoints": "all",
         "jitter": 0.5,
         "line": {
          "width": 1
         },
         "marker": {
          "size": 2
         },
         "name": "NO, THIS IS PATRICK",
         "type": "box",
         "uid": "d3846321-4d20-4793-ab15-1bdb988357c7",
         "whiskerwidth": 0.2,
         "y": [
          1.2999999999999972,
          15.219999999999985,
          1.5400000000000063,
          -32.480000000000004,
          -13,
          23.120000000000005
         ]
        },
        {
         "boxpoints": "all",
         "jitter": 0.5,
         "line": {
          "width": 1
         },
         "marker": {
          "size": 2
         },
         "name": "Hot Single Dads",
         "type": "box",
         "uid": "06cc3e1b-f9a3-4e3a-b830-1dfe59764426",
         "whiskerwidth": 0.2,
         "y": [
          2.3400000000000034,
          14.280000000000001,
          -2.259999999999991,
          7.719999999999999,
          -15.219999999999985,
          59.44
         ]
        }
       ],
       "layout": {}
      },
      "text/html": [
       "<div>\n",
       "        \n",
       "        \n",
       "            <div id=\"fdc1f984-1063-4a1f-ae78-b6066ac0018a\" class=\"plotly-graph-div\" style=\"height:525px; width:100%;\"></div>\n",
       "            <script type=\"text/javascript\">\n",
       "                require([\"plotly\"], function(Plotly) {\n",
       "                    window.PLOTLYENV=window.PLOTLYENV || {};\n",
       "                    window.PLOTLYENV.BASE_URL='https://plot.ly';\n",
       "                    \n",
       "                if (document.getElementById(\"fdc1f984-1063-4a1f-ae78-b6066ac0018a\")) {\n",
       "                    Plotly.newPlot(\n",
       "                        'fdc1f984-1063-4a1f-ae78-b6066ac0018a',\n",
       "                        [{\"boxpoints\": \"all\", \"jitter\": 0.5, \"line\": {\"width\": 1}, \"marker\": {\"size\": 2}, \"name\": \"Kittle My Johnson\", \"type\": \"box\", \"uid\": \"fe3fd283-9625-476f-9d61-1927f8fd2356\", \"whiskerwidth\": 0.2, \"y\": [-2.8599999999999994, -53.41999999999999, 60.61999999999999, 34.80000000000001, 19.340000000000003, 62.28]}, {\"boxpoints\": \"all\", \"jitter\": 0.5, \"line\": {\"width\": 1}, \"marker\": {\"size\": 2}, \"name\": \"North Bay Nip Diddlers\", \"type\": \"box\", \"uid\": \"56d493fe-dbdb-44eb-b0bd-e4eec93615c9\", \"whiskerwidth\": 0.2, \"y\": [2.259999999999991, 32.480000000000004, 43.92, -62.28, -63.74, -6.599999999999994]}, {\"boxpoints\": \"all\", \"jitter\": 0.5, \"line\": {\"width\": 1}, \"marker\": {\"size\": 2}, \"name\": \"Sad Adams\", \"type\": \"box\", \"uid\": \"f33b2963-ac33-40f3-b827-9455ec8235ce\", \"whiskerwidth\": 0.2, \"y\": [-25.58, -1.8400000000000034, -59.44, -44.019999999999996, 28.120000000000005, -43.92]}, {\"boxpoints\": \"all\", \"jitter\": 0.5, \"line\": {\"width\": 1}, \"marker\": {\"size\": 2}, \"name\": \"The horses in the back\", \"type\": \"box\", \"uid\": \"d02794e7-e1ab-418f-a16d-cd7badcf6a65\", \"whiskerwidth\": 0.2, \"y\": [-31.960000000000008, -5.1000000000000085, -28.120000000000005, 1.2399999999999949, -1.2999999999999972, -60.61999999999999]}, {\"boxpoints\": \"all\", \"jitter\": 0.5, \"line\": {\"width\": 1}, \"marker\": {\"size\": 2}, \"name\": \"The  Lizard King\", \"type\": \"box\", \"uid\": \"17d9cf9b-2754-4cab-9fa7-a91e8cd162bb\", \"whiskerwidth\": 0.2, \"y\": [-44.480000000000004, 6.599999999999994, -34.06, 17.480000000000004, 5.1000000000000085, -14.280000000000001]}, {\"boxpoints\": \"all\", \"jitter\": 0.5, \"line\": {\"width\": 1}, \"marker\": {\"size\": 2}, \"name\": \"Kamara Hopkins Nothin Else\", \"type\": \"box\", \"uid\": \"2deb6424-583b-42e0-bd79-928d7618946f\", \"whiskerwidth\": 0.2, \"y\": [-1.5400000000000063, -17.480000000000004, -19.340000000000003, 5.219999999999999, 1.8400000000000034, 6.940000000000012]}, {\"boxpoints\": \"all\", \"jitter\": 0.5, \"line\": {\"width\": 1}, \"marker\": {\"size\": 2}, \"name\": \"Two Ds Four QBs\", \"type\": \"box\", \"uid\": \"a882a644-4aa0-4052-b90d-986dfc607c45\", \"whiskerwidth\": 0.2, \"y\": [-7.719999999999999, 6.179999999999993, -23.120000000000005, 2.8599999999999994, -61.72000000000001, -30.299999999999997]}, {\"boxpoints\": \"all\", \"jitter\": 0.5, \"line\": {\"width\": 1}, \"marker\": {\"size\": 2}, \"name\": \"Tyreek Hill's Daycare\", \"type\": \"box\", \"uid\": \"3218cc4e-c7cd-4868-b500-2a3a871d5895\", \"whiskerwidth\": 0.2, \"y\": [-34.80000000000001, 61.72000000000001, -6.940000000000012, 25.58, 29.78, -1.2399999999999949]}, {\"boxpoints\": \"all\", \"jitter\": 0.5, \"line\": {\"width\": 1}, \"marker\": {\"size\": 2}, \"name\": \"Bill Cosby's Sleeper\", \"type\": \"box\", \"uid\": \"c269eeaf-d0ea-4d8c-9915-4a518619bf0e\", \"whiskerwidth\": 0.2, \"y\": [63.74, 13.0, 31.960000000000008, -2.3400000000000034, -6.179999999999993, 34.06]}, {\"boxpoints\": \"all\", \"jitter\": 0.5, \"line\": {\"width\": 1}, \"marker\": {\"size\": 2}, \"name\": \"Razor Gang\", \"type\": \"box\", \"uid\": \"55409438-1fd2-4f76-9420-b602cd73ba94\", \"whiskerwidth\": 0.2, \"y\": [44.019999999999996, -29.78, 30.299999999999997, 44.480000000000004, 53.41999999999999, -5.219999999999999]}, {\"boxpoints\": \"all\", \"jitter\": 0.5, \"line\": {\"width\": 1}, \"marker\": {\"size\": 2}, \"name\": \"NO, THIS IS PATRICK\", \"type\": \"box\", \"uid\": \"d3846321-4d20-4793-ab15-1bdb988357c7\", \"whiskerwidth\": 0.2, \"y\": [1.2999999999999972, 15.219999999999985, 1.5400000000000063, -32.480000000000004, -13.0, 23.120000000000005]}, {\"boxpoints\": \"all\", \"jitter\": 0.5, \"line\": {\"width\": 1}, \"marker\": {\"size\": 2}, \"name\": \"Hot Single Dads\", \"type\": \"box\", \"uid\": \"06cc3e1b-f9a3-4e3a-b830-1dfe59764426\", \"whiskerwidth\": 0.2, \"y\": [2.3400000000000034, 14.280000000000001, -2.259999999999991, 7.719999999999999, -15.219999999999985, 59.44]}],\n",
       "                        {},\n",
       "                        {\"showLink\": false, \"linkText\": \"Export to plot.ly\", \"plotlyServerURL\": \"https://plot.ly\", \"responsive\": true}\n",
       "                    ).then(function(){\n",
       "                            \n",
       "var gd = document.getElementById('fdc1f984-1063-4a1f-ae78-b6066ac0018a');\n",
       "var x = new MutationObserver(function (mutations, observer) {{\n",
       "        var display = window.getComputedStyle(gd).display;\n",
       "        if (!display || display === 'none') {{\n",
       "            console.log([gd, 'removed!']);\n",
       "            Plotly.purge(gd);\n",
       "            observer.disconnect();\n",
       "        }}\n",
       "}});\n",
       "\n",
       "// Listen for the removal of the full notebook cells\n",
       "var notebookContainer = gd.closest('#notebook-container');\n",
       "if (notebookContainer) {{\n",
       "    x.observe(notebookContainer, {childList: true});\n",
       "}}\n",
       "\n",
       "// Listen for the clearing of the current output cell\n",
       "var outputEl = gd.closest('.output');\n",
       "if (outputEl) {{\n",
       "    x.observe(outputEl, {childList: true});\n",
       "}}\n",
       "\n",
       "                        })\n",
       "                };\n",
       "                });\n",
       "            </script>\n",
       "        </div>"
      ]
     },
     "metadata": {},
     "output_type": "display_data"
    }
   ],
   "source": [
    "traces = []\n",
    "\n",
    "for i in margins.Team.unique():\n",
    "    traces.append(go.Box(\n",
    "        y=margins[margins.Team == i].Margin\n",
    "        ,name = i\n",
    "        ,boxpoints='all'\n",
    "        ,jitter=0.5\n",
    "        ,whiskerwidth=0.2\n",
    "        ,marker=dict(size=2)\n",
    "        ,line=dict(width=1)\n",
    "    ))\n",
    "iplot(traces)"
   ]
  },
  {
   "cell_type": "code",
   "execution_count": 12,
   "metadata": {},
   "outputs": [
    {
     "name": "stdout",
     "output_type": "stream",
     "text": [
      "   Week       Score\n",
      "0     1  106.576667\n",
      "1     2   96.968333\n",
      "2     3  112.088333\n",
      "3     4   94.213333\n",
      "4     5  113.701667\n",
      "5     6  103.670000\n"
     ]
    }
   ],
   "source": [
    "avgs = (df\n",
    " .filter(['Week', 'Score1', 'Score2'])\n",
    " .melt(id_vars=['Week'], value_name='Score')\n",
    " .groupby('Week')\n",
    " .mean()\n",
    " .reset_index()\n",
    ")\n",
    "avgs = avgs[avgs.Week < 7]\n",
    "print(avgs)\n"
   ]
  },
  {
   "cell_type": "code",
   "execution_count": 13,
   "metadata": {},
   "outputs": [],
   "source": [
    "games = df.replace({'Team1': id_to_names})\n",
    "games = games.replace({'Team2': id_to_names})\n",
    "games = (games[['Week', 'Team1', 'Score1']]\n",
    " .rename(columns={'Team1': 'Team', 'Score1': 'Score'})\n",
    " .append(games[['Week', 'Team2', 'Score2']]\n",
    " .rename(columns={'Team2': 'Team', 'Score2': 'Score'}))\n",
    ")\n",
    "games = games[games.Week < 7]\n",
    "games = games.sort_values(by=['Week'])"
   ]
  },
  {
   "cell_type": "code",
   "execution_count": 14,
   "metadata": {},
   "outputs": [
    {
     "ename": "KeyError",
     "evalue": "'teams'",
     "output_type": "error",
     "traceback": [
      "\u001b[1;31m---------------------------------------------------------------------------\u001b[0m",
      "\u001b[1;31mKeyError\u001b[0m                                  Traceback (most recent call last)",
      "\u001b[1;32mc:\\python36\\lib\\site-packages\\pandas\\core\\indexes\\base.py\u001b[0m in \u001b[0;36mget_loc\u001b[1;34m(self, key, method, tolerance)\u001b[0m\n\u001b[0;32m   2524\u001b[0m             \u001b[1;32mtry\u001b[0m\u001b[1;33m:\u001b[0m\u001b[1;33m\u001b[0m\u001b[0m\n\u001b[1;32m-> 2525\u001b[1;33m                 \u001b[1;32mreturn\u001b[0m \u001b[0mself\u001b[0m\u001b[1;33m.\u001b[0m\u001b[0m_engine\u001b[0m\u001b[1;33m.\u001b[0m\u001b[0mget_loc\u001b[0m\u001b[1;33m(\u001b[0m\u001b[0mkey\u001b[0m\u001b[1;33m)\u001b[0m\u001b[1;33m\u001b[0m\u001b[0m\n\u001b[0m\u001b[0;32m   2526\u001b[0m             \u001b[1;32mexcept\u001b[0m \u001b[0mKeyError\u001b[0m\u001b[1;33m:\u001b[0m\u001b[1;33m\u001b[0m\u001b[0m\n",
      "\u001b[1;32mpandas\\_libs\\index.pyx\u001b[0m in \u001b[0;36mpandas._libs.index.IndexEngine.get_loc\u001b[1;34m()\u001b[0m\n",
      "\u001b[1;32mpandas\\_libs\\index.pyx\u001b[0m in \u001b[0;36mpandas._libs.index.IndexEngine.get_loc\u001b[1;34m()\u001b[0m\n",
      "\u001b[1;32mpandas\\_libs\\hashtable_class_helper.pxi\u001b[0m in \u001b[0;36mpandas._libs.hashtable.PyObjectHashTable.get_item\u001b[1;34m()\u001b[0m\n",
      "\u001b[1;32mpandas\\_libs\\hashtable_class_helper.pxi\u001b[0m in \u001b[0;36mpandas._libs.hashtable.PyObjectHashTable.get_item\u001b[1;34m()\u001b[0m\n",
      "\u001b[1;31mKeyError\u001b[0m: 'teams'",
      "\nDuring handling of the above exception, another exception occurred:\n",
      "\u001b[1;31mKeyError\u001b[0m                                  Traceback (most recent call last)",
      "\u001b[1;32m<ipython-input-14-6bf4dd70e2d4>\u001b[0m in \u001b[0;36m<module>\u001b[1;34m()\u001b[0m\n\u001b[0;32m      8\u001b[0m     \u001b[0my\u001b[0m \u001b[1;33m=\u001b[0m \u001b[0mgames\u001b[0m\u001b[1;33m[\u001b[0m\u001b[1;34m'Score'\u001b[0m\u001b[1;33m]\u001b[0m\u001b[1;33m,\u001b[0m\u001b[1;33m\u001b[0m\u001b[0m\n\u001b[0;32m      9\u001b[0m     \u001b[0mmode\u001b[0m \u001b[1;33m=\u001b[0m \u001b[1;34m'markers'\u001b[0m\u001b[1;33m,\u001b[0m\u001b[1;33m\u001b[0m\u001b[0m\n\u001b[1;32m---> 10\u001b[1;33m     \u001b[0mtext\u001b[0m \u001b[1;33m=\u001b[0m \u001b[0mgames\u001b[0m\u001b[1;33m[\u001b[0m\u001b[1;34m'teams'\u001b[0m\u001b[1;33m]\u001b[0m\u001b[1;33m\u001b[0m\u001b[0m\n\u001b[0m\u001b[0;32m     11\u001b[0m )\n\u001b[0;32m     12\u001b[0m \u001b[1;33m\u001b[0m\u001b[0m\n",
      "\u001b[1;32mc:\\python36\\lib\\site-packages\\pandas\\core\\frame.py\u001b[0m in \u001b[0;36m__getitem__\u001b[1;34m(self, key)\u001b[0m\n\u001b[0;32m   2137\u001b[0m             \u001b[1;32mreturn\u001b[0m \u001b[0mself\u001b[0m\u001b[1;33m.\u001b[0m\u001b[0m_getitem_multilevel\u001b[0m\u001b[1;33m(\u001b[0m\u001b[0mkey\u001b[0m\u001b[1;33m)\u001b[0m\u001b[1;33m\u001b[0m\u001b[0m\n\u001b[0;32m   2138\u001b[0m         \u001b[1;32melse\u001b[0m\u001b[1;33m:\u001b[0m\u001b[1;33m\u001b[0m\u001b[0m\n\u001b[1;32m-> 2139\u001b[1;33m             \u001b[1;32mreturn\u001b[0m \u001b[0mself\u001b[0m\u001b[1;33m.\u001b[0m\u001b[0m_getitem_column\u001b[0m\u001b[1;33m(\u001b[0m\u001b[0mkey\u001b[0m\u001b[1;33m)\u001b[0m\u001b[1;33m\u001b[0m\u001b[0m\n\u001b[0m\u001b[0;32m   2140\u001b[0m \u001b[1;33m\u001b[0m\u001b[0m\n\u001b[0;32m   2141\u001b[0m     \u001b[1;32mdef\u001b[0m \u001b[0m_getitem_column\u001b[0m\u001b[1;33m(\u001b[0m\u001b[0mself\u001b[0m\u001b[1;33m,\u001b[0m \u001b[0mkey\u001b[0m\u001b[1;33m)\u001b[0m\u001b[1;33m:\u001b[0m\u001b[1;33m\u001b[0m\u001b[0m\n",
      "\u001b[1;32mc:\\python36\\lib\\site-packages\\pandas\\core\\frame.py\u001b[0m in \u001b[0;36m_getitem_column\u001b[1;34m(self, key)\u001b[0m\n\u001b[0;32m   2144\u001b[0m         \u001b[1;31m# get column\u001b[0m\u001b[1;33m\u001b[0m\u001b[1;33m\u001b[0m\u001b[0m\n\u001b[0;32m   2145\u001b[0m         \u001b[1;32mif\u001b[0m \u001b[0mself\u001b[0m\u001b[1;33m.\u001b[0m\u001b[0mcolumns\u001b[0m\u001b[1;33m.\u001b[0m\u001b[0mis_unique\u001b[0m\u001b[1;33m:\u001b[0m\u001b[1;33m\u001b[0m\u001b[0m\n\u001b[1;32m-> 2146\u001b[1;33m             \u001b[1;32mreturn\u001b[0m \u001b[0mself\u001b[0m\u001b[1;33m.\u001b[0m\u001b[0m_get_item_cache\u001b[0m\u001b[1;33m(\u001b[0m\u001b[0mkey\u001b[0m\u001b[1;33m)\u001b[0m\u001b[1;33m\u001b[0m\u001b[0m\n\u001b[0m\u001b[0;32m   2147\u001b[0m \u001b[1;33m\u001b[0m\u001b[0m\n\u001b[0;32m   2148\u001b[0m         \u001b[1;31m# duplicate columns & possible reduce dimensionality\u001b[0m\u001b[1;33m\u001b[0m\u001b[1;33m\u001b[0m\u001b[0m\n",
      "\u001b[1;32mc:\\python36\\lib\\site-packages\\pandas\\core\\generic.py\u001b[0m in \u001b[0;36m_get_item_cache\u001b[1;34m(self, item)\u001b[0m\n\u001b[0;32m   1840\u001b[0m         \u001b[0mres\u001b[0m \u001b[1;33m=\u001b[0m \u001b[0mcache\u001b[0m\u001b[1;33m.\u001b[0m\u001b[0mget\u001b[0m\u001b[1;33m(\u001b[0m\u001b[0mitem\u001b[0m\u001b[1;33m)\u001b[0m\u001b[1;33m\u001b[0m\u001b[0m\n\u001b[0;32m   1841\u001b[0m         \u001b[1;32mif\u001b[0m \u001b[0mres\u001b[0m \u001b[1;32mis\u001b[0m \u001b[1;32mNone\u001b[0m\u001b[1;33m:\u001b[0m\u001b[1;33m\u001b[0m\u001b[0m\n\u001b[1;32m-> 1842\u001b[1;33m             \u001b[0mvalues\u001b[0m \u001b[1;33m=\u001b[0m \u001b[0mself\u001b[0m\u001b[1;33m.\u001b[0m\u001b[0m_data\u001b[0m\u001b[1;33m.\u001b[0m\u001b[0mget\u001b[0m\u001b[1;33m(\u001b[0m\u001b[0mitem\u001b[0m\u001b[1;33m)\u001b[0m\u001b[1;33m\u001b[0m\u001b[0m\n\u001b[0m\u001b[0;32m   1843\u001b[0m             \u001b[0mres\u001b[0m \u001b[1;33m=\u001b[0m \u001b[0mself\u001b[0m\u001b[1;33m.\u001b[0m\u001b[0m_box_item_values\u001b[0m\u001b[1;33m(\u001b[0m\u001b[0mitem\u001b[0m\u001b[1;33m,\u001b[0m \u001b[0mvalues\u001b[0m\u001b[1;33m)\u001b[0m\u001b[1;33m\u001b[0m\u001b[0m\n\u001b[0;32m   1844\u001b[0m             \u001b[0mcache\u001b[0m\u001b[1;33m[\u001b[0m\u001b[0mitem\u001b[0m\u001b[1;33m]\u001b[0m \u001b[1;33m=\u001b[0m \u001b[0mres\u001b[0m\u001b[1;33m\u001b[0m\u001b[0m\n",
      "\u001b[1;32mc:\\python36\\lib\\site-packages\\pandas\\core\\internals.py\u001b[0m in \u001b[0;36mget\u001b[1;34m(self, item, fastpath)\u001b[0m\n\u001b[0;32m   3841\u001b[0m \u001b[1;33m\u001b[0m\u001b[0m\n\u001b[0;32m   3842\u001b[0m             \u001b[1;32mif\u001b[0m \u001b[1;32mnot\u001b[0m \u001b[0misna\u001b[0m\u001b[1;33m(\u001b[0m\u001b[0mitem\u001b[0m\u001b[1;33m)\u001b[0m\u001b[1;33m:\u001b[0m\u001b[1;33m\u001b[0m\u001b[0m\n\u001b[1;32m-> 3843\u001b[1;33m                 \u001b[0mloc\u001b[0m \u001b[1;33m=\u001b[0m \u001b[0mself\u001b[0m\u001b[1;33m.\u001b[0m\u001b[0mitems\u001b[0m\u001b[1;33m.\u001b[0m\u001b[0mget_loc\u001b[0m\u001b[1;33m(\u001b[0m\u001b[0mitem\u001b[0m\u001b[1;33m)\u001b[0m\u001b[1;33m\u001b[0m\u001b[0m\n\u001b[0m\u001b[0;32m   3844\u001b[0m             \u001b[1;32melse\u001b[0m\u001b[1;33m:\u001b[0m\u001b[1;33m\u001b[0m\u001b[0m\n\u001b[0;32m   3845\u001b[0m                 \u001b[0mindexer\u001b[0m \u001b[1;33m=\u001b[0m \u001b[0mnp\u001b[0m\u001b[1;33m.\u001b[0m\u001b[0marange\u001b[0m\u001b[1;33m(\u001b[0m\u001b[0mlen\u001b[0m\u001b[1;33m(\u001b[0m\u001b[0mself\u001b[0m\u001b[1;33m.\u001b[0m\u001b[0mitems\u001b[0m\u001b[1;33m)\u001b[0m\u001b[1;33m)\u001b[0m\u001b[1;33m[\u001b[0m\u001b[0misna\u001b[0m\u001b[1;33m(\u001b[0m\u001b[0mself\u001b[0m\u001b[1;33m.\u001b[0m\u001b[0mitems\u001b[0m\u001b[1;33m)\u001b[0m\u001b[1;33m]\u001b[0m\u001b[1;33m\u001b[0m\u001b[0m\n",
      "\u001b[1;32mc:\\python36\\lib\\site-packages\\pandas\\core\\indexes\\base.py\u001b[0m in \u001b[0;36mget_loc\u001b[1;34m(self, key, method, tolerance)\u001b[0m\n\u001b[0;32m   2525\u001b[0m                 \u001b[1;32mreturn\u001b[0m \u001b[0mself\u001b[0m\u001b[1;33m.\u001b[0m\u001b[0m_engine\u001b[0m\u001b[1;33m.\u001b[0m\u001b[0mget_loc\u001b[0m\u001b[1;33m(\u001b[0m\u001b[0mkey\u001b[0m\u001b[1;33m)\u001b[0m\u001b[1;33m\u001b[0m\u001b[0m\n\u001b[0;32m   2526\u001b[0m             \u001b[1;32mexcept\u001b[0m \u001b[0mKeyError\u001b[0m\u001b[1;33m:\u001b[0m\u001b[1;33m\u001b[0m\u001b[0m\n\u001b[1;32m-> 2527\u001b[1;33m                 \u001b[1;32mreturn\u001b[0m \u001b[0mself\u001b[0m\u001b[1;33m.\u001b[0m\u001b[0m_engine\u001b[0m\u001b[1;33m.\u001b[0m\u001b[0mget_loc\u001b[0m\u001b[1;33m(\u001b[0m\u001b[0mself\u001b[0m\u001b[1;33m.\u001b[0m\u001b[0m_maybe_cast_indexer\u001b[0m\u001b[1;33m(\u001b[0m\u001b[0mkey\u001b[0m\u001b[1;33m)\u001b[0m\u001b[1;33m)\u001b[0m\u001b[1;33m\u001b[0m\u001b[0m\n\u001b[0m\u001b[0;32m   2528\u001b[0m \u001b[1;33m\u001b[0m\u001b[0m\n\u001b[0;32m   2529\u001b[0m         \u001b[0mindexer\u001b[0m \u001b[1;33m=\u001b[0m \u001b[0mself\u001b[0m\u001b[1;33m.\u001b[0m\u001b[0mget_indexer\u001b[0m\u001b[1;33m(\u001b[0m\u001b[1;33m[\u001b[0m\u001b[0mkey\u001b[0m\u001b[1;33m]\u001b[0m\u001b[1;33m,\u001b[0m \u001b[0mmethod\u001b[0m\u001b[1;33m=\u001b[0m\u001b[0mmethod\u001b[0m\u001b[1;33m,\u001b[0m \u001b[0mtolerance\u001b[0m\u001b[1;33m=\u001b[0m\u001b[0mtolerance\u001b[0m\u001b[1;33m)\u001b[0m\u001b[1;33m\u001b[0m\u001b[0m\n",
      "\u001b[1;32mpandas\\_libs\\index.pyx\u001b[0m in \u001b[0;36mpandas._libs.index.IndexEngine.get_loc\u001b[1;34m()\u001b[0m\n",
      "\u001b[1;32mpandas\\_libs\\index.pyx\u001b[0m in \u001b[0;36mpandas._libs.index.IndexEngine.get_loc\u001b[1;34m()\u001b[0m\n",
      "\u001b[1;32mpandas\\_libs\\hashtable_class_helper.pxi\u001b[0m in \u001b[0;36mpandas._libs.hashtable.PyObjectHashTable.get_item\u001b[1;34m()\u001b[0m\n",
      "\u001b[1;32mpandas\\_libs\\hashtable_class_helper.pxi\u001b[0m in \u001b[0;36mpandas._libs.hashtable.PyObjectHashTable.get_item\u001b[1;34m()\u001b[0m\n",
      "\u001b[1;31mKeyError\u001b[0m: 'teams'"
     ]
    }
   ],
   "source": [
    "# data=[go.Scatter(\n",
    "# #                 marker_color=games['Team'],\n",
    "#                 text=games['Team'])] # hover text goes here\n",
    "# iplot(data)\n",
    "\n",
    "trace = go.Scatter(\n",
    "    x = games['Week'],\n",
    "    y = games['Score'],\n",
    "    mode = 'markers',\n",
    "    text = games['teams']\n",
    ")\n",
    "\n",
    "data = [trace]\n",
    "\n",
    "# Plot and embed in ipython notebook!\n",
    "iplot(data, filename='basic-scatter')"
   ]
  },
  {
   "cell_type": "code",
   "execution_count": null,
   "metadata": {},
   "outputs": [],
   "source": []
  },
  {
   "cell_type": "code",
   "execution_count": null,
   "metadata": {},
   "outputs": [],
   "source": []
  }
 ],
 "metadata": {
  "kernelspec": {
   "display_name": "Python 3",
   "language": "python",
   "name": "python3"
  },
  "language_info": {
   "codemirror_mode": {
    "name": "ipython",
    "version": 3
   },
   "file_extension": ".py",
   "mimetype": "text/x-python",
   "name": "python",
   "nbconvert_exporter": "python",
   "pygments_lexer": "ipython3",
   "version": "3.6.5"
  }
 },
 "nbformat": 4,
 "nbformat_minor": 4
}
